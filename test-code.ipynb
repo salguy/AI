{
 "cells": [
  {
   "cell_type": "code",
   "execution_count": 2,
   "id": "392e5e57-310f-4a10-9f9d-aedd5e1cff38",
   "metadata": {},
   "outputs": [
    {
     "name": "stdout",
     "output_type": "stream",
     "text": [
      "Mon Mar 31 06:10:36 2025       \n",
      "+-----------------------------------------------------------------------------------------+\n",
      "| NVIDIA-SMI 550.127.05             Driver Version: 550.127.05     CUDA Version: 12.4     |\n",
      "|-----------------------------------------+------------------------+----------------------+\n",
      "| GPU  Name                 Persistence-M | Bus-Id          Disp.A | Volatile Uncorr. ECC |\n",
      "| Fan  Temp   Perf          Pwr:Usage/Cap |           Memory-Usage | GPU-Util  Compute M. |\n",
      "|                                         |                        |               MIG M. |\n",
      "|=========================================+========================+======================|\n",
      "|   0  NVIDIA A40                     On  |   00000000:D2:00.0 Off |                    0 |\n",
      "|  0%   28C    P8             21W /  300W |       1MiB /  46068MiB |      0%      Default |\n",
      "|                                         |                        |                  N/A |\n",
      "+-----------------------------------------+------------------------+----------------------+\n",
      "                                                                                         \n",
      "+-----------------------------------------------------------------------------------------+\n",
      "| Processes:                                                                              |\n",
      "|  GPU   GI   CI        PID   Type   Process name                              GPU Memory |\n",
      "|        ID   ID                                                               Usage      |\n",
      "|=========================================================================================|\n",
      "|  No running processes found                                                             |\n",
      "+-----------------------------------------------------------------------------------------+\n",
      "Collecting transformers[torch]\n",
      "  Downloading transformers-4.50.3-py3-none-any.whl.metadata (39 kB)\n",
      "Requirement already satisfied: filelock in /usr/local/lib/python3.10/dist-packages (from transformers[torch]) (3.9.0)\n",
      "Collecting huggingface-hub<1.0,>=0.26.0 (from transformers[torch])\n",
      "  Downloading huggingface_hub-0.29.3-py3-none-any.whl.metadata (13 kB)\n",
      "Requirement already satisfied: numpy>=1.17 in /usr/local/lib/python3.10/dist-packages (from transformers[torch]) (1.24.1)\n",
      "Requirement already satisfied: packaging>=20.0 in /usr/local/lib/python3.10/dist-packages (from transformers[torch]) (23.2)\n",
      "Requirement already satisfied: pyyaml>=5.1 in /usr/local/lib/python3.10/dist-packages (from transformers[torch]) (6.0.1)\n",
      "Collecting regex!=2019.12.17 (from transformers[torch])\n",
      "  Downloading regex-2024.11.6-cp310-cp310-manylinux_2_17_x86_64.manylinux2014_x86_64.whl.metadata (40 kB)\n",
      "\u001b[2K     \u001b[90m━━━━━━━━━━━━━━━━━━━━━━━━━━━━━━━━━━━━━━━━\u001b[0m \u001b[32m40.5/40.5 kB\u001b[0m \u001b[31m15.1 MB/s\u001b[0m eta \u001b[36m0:00:00\u001b[0m\n",
      "\u001b[?25hRequirement already satisfied: requests in /usr/local/lib/python3.10/dist-packages (from transformers[torch]) (2.31.0)\n",
      "Collecting tokenizers<0.22,>=0.21 (from transformers[torch])\n",
      "  Downloading tokenizers-0.21.1-cp39-abi3-manylinux_2_17_x86_64.manylinux2014_x86_64.whl.metadata (6.8 kB)\n",
      "Collecting safetensors>=0.4.3 (from transformers[torch])\n",
      "  Downloading safetensors-0.5.3-cp38-abi3-manylinux_2_17_x86_64.manylinux2014_x86_64.whl.metadata (3.8 kB)\n",
      "Collecting tqdm>=4.27 (from transformers[torch])\n",
      "  Downloading tqdm-4.67.1-py3-none-any.whl.metadata (57 kB)\n",
      "\u001b[2K     \u001b[90m━━━━━━━━━━━━━━━━━━━━━━━━━━━━━━━━━━━━━━━━\u001b[0m \u001b[32m57.7/57.7 kB\u001b[0m \u001b[31m13.7 MB/s\u001b[0m eta \u001b[36m0:00:00\u001b[0m\n",
      "\u001b[?25hRequirement already satisfied: torch>=2.0 in /usr/local/lib/python3.10/dist-packages (from transformers[torch]) (2.1.0+cu118)\n",
      "Collecting accelerate>=0.26.0 (from transformers[torch])\n",
      "  Downloading accelerate-1.5.2-py3-none-any.whl.metadata (19 kB)\n",
      "Requirement already satisfied: psutil in /usr/local/lib/python3.10/dist-packages (from accelerate>=0.26.0->transformers[torch]) (5.9.6)\n",
      "Collecting fsspec>=2023.5.0 (from huggingface-hub<1.0,>=0.26.0->transformers[torch])\n",
      "  Downloading fsspec-2025.3.1-py3-none-any.whl.metadata (11 kB)\n",
      "Requirement already satisfied: typing-extensions>=3.7.4.3 in /usr/local/lib/python3.10/dist-packages (from huggingface-hub<1.0,>=0.26.0->transformers[torch]) (4.4.0)\n",
      "Requirement already satisfied: sympy in /usr/local/lib/python3.10/dist-packages (from torch>=2.0->transformers[torch]) (1.12)\n",
      "Requirement already satisfied: networkx in /usr/local/lib/python3.10/dist-packages (from torch>=2.0->transformers[torch]) (3.0)\n",
      "Requirement already satisfied: jinja2 in /usr/local/lib/python3.10/dist-packages (from torch>=2.0->transformers[torch]) (3.1.2)\n",
      "Requirement already satisfied: triton==2.1.0 in /usr/local/lib/python3.10/dist-packages (from torch>=2.0->transformers[torch]) (2.1.0)\n",
      "Requirement already satisfied: charset-normalizer<4,>=2 in /usr/local/lib/python3.10/dist-packages (from requests->transformers[torch]) (2.1.1)\n",
      "Requirement already satisfied: idna<4,>=2.5 in /usr/local/lib/python3.10/dist-packages (from requests->transformers[torch]) (3.4)\n",
      "Requirement already satisfied: urllib3<3,>=1.21.1 in /usr/local/lib/python3.10/dist-packages (from requests->transformers[torch]) (1.26.13)\n",
      "Requirement already satisfied: certifi>=2017.4.17 in /usr/local/lib/python3.10/dist-packages (from requests->transformers[torch]) (2022.12.7)\n",
      "Requirement already satisfied: MarkupSafe>=2.0 in /usr/local/lib/python3.10/dist-packages (from jinja2->torch>=2.0->transformers[torch]) (2.1.2)\n",
      "Requirement already satisfied: mpmath>=0.19 in /usr/local/lib/python3.10/dist-packages (from sympy->torch>=2.0->transformers[torch]) (1.3.0)\n",
      "Downloading accelerate-1.5.2-py3-none-any.whl (345 kB)\n",
      "\u001b[2K   \u001b[90m━━━━━━━━━━━━━━━━━━━━━━━━━━━━━━━━━━━━━━━━\u001b[0m \u001b[32m345.1/345.1 kB\u001b[0m \u001b[31m82.1 MB/s\u001b[0m eta \u001b[36m0:00:00\u001b[0m\n",
      "\u001b[?25hDownloading huggingface_hub-0.29.3-py3-none-any.whl (468 kB)\n",
      "\u001b[2K   \u001b[90m━━━━━━━━━━━━━━━━━━━━━━━━━━━━━━━━━━━━━━━\u001b[0m \u001b[32m469.0/469.0 kB\u001b[0m \u001b[31m153.6 MB/s\u001b[0m eta \u001b[36m0:00:00\u001b[0m\n",
      "\u001b[?25hDownloading regex-2024.11.6-cp310-cp310-manylinux_2_17_x86_64.manylinux2014_x86_64.whl (781 kB)\n",
      "\u001b[2K   \u001b[90m━━━━━━━━━━━━━━━━━━━━━━━━━━━━━━━━━━━━━━━\u001b[0m \u001b[32m781.7/781.7 kB\u001b[0m \u001b[31m189.4 MB/s\u001b[0m eta \u001b[36m0:00:00\u001b[0m\n",
      "\u001b[?25hDownloading safetensors-0.5.3-cp38-abi3-manylinux_2_17_x86_64.manylinux2014_x86_64.whl (471 kB)\n",
      "\u001b[2K   \u001b[90m━━━━━━━━━━━━━━━━━━━━━━━━━━━━━━━━━━━━━━━\u001b[0m \u001b[32m471.6/471.6 kB\u001b[0m \u001b[31m154.4 MB/s\u001b[0m eta \u001b[36m0:00:00\u001b[0m\n",
      "\u001b[?25hDownloading tokenizers-0.21.1-cp39-abi3-manylinux_2_17_x86_64.manylinux2014_x86_64.whl (3.0 MB)\n",
      "\u001b[2K   \u001b[90m━━━━━━━━━━━━━━━━━━━━━━━━━━━━━━━━━━━━━━━━\u001b[0m \u001b[32m3.0/3.0 MB\u001b[0m \u001b[31m238.1 MB/s\u001b[0m eta \u001b[36m0:00:00\u001b[0m\n",
      "\u001b[?25hDownloading tqdm-4.67.1-py3-none-any.whl (78 kB)\n",
      "\u001b[2K   \u001b[90m━━━━━━━━━━━━━━━━━━━━━━━━━━━━━━━━━━━━━━━━\u001b[0m \u001b[32m78.5/78.5 kB\u001b[0m \u001b[31m42.1 MB/s\u001b[0m eta \u001b[36m0:00:00\u001b[0m\n",
      "\u001b[?25hDownloading transformers-4.50.3-py3-none-any.whl (10.2 MB)\n",
      "\u001b[2K   \u001b[90m━━━━━━━━━━━━━━━━━━━━━━━━━━━━━━━━━━━━━━━━\u001b[0m \u001b[32m10.2/10.2 MB\u001b[0m \u001b[31m256.1 MB/s\u001b[0m eta \u001b[36m0:00:00\u001b[0m00:01\u001b[0m\n",
      "\u001b[?25hDownloading fsspec-2025.3.1-py3-none-any.whl (194 kB)\n",
      "\u001b[2K   \u001b[90m━━━━━━━━━━━━━━━━━━━━━━━━━━━━━━━━━━━━━━━━\u001b[0m \u001b[32m194.4/194.4 kB\u001b[0m \u001b[31m97.6 MB/s\u001b[0m eta \u001b[36m0:00:00\u001b[0m\n",
      "\u001b[?25hInstalling collected packages: tqdm, safetensors, regex, fsspec, huggingface-hub, tokenizers, accelerate, transformers\n",
      "  Attempting uninstall: fsspec\n",
      "    Found existing installation: fsspec 2023.4.0\n",
      "    Uninstalling fsspec-2023.4.0:\n",
      "      Successfully uninstalled fsspec-2023.4.0\n",
      "Successfully installed accelerate-1.5.2 fsspec-2025.3.1 huggingface-hub-0.29.3 regex-2024.11.6 safetensors-0.5.3 tokenizers-0.21.1 tqdm-4.67.1 transformers-4.50.3\n",
      "\u001b[33mWARNING: Running pip as the 'root' user can result in broken permissions and conflicting behaviour with the system package manager. It is recommended to use a virtual environment instead: https://pip.pypa.io/warnings/venv\u001b[0m\u001b[33m\n",
      "\u001b[0m\n",
      "\u001b[1m[\u001b[0m\u001b[34;49mnotice\u001b[0m\u001b[1;39;49m]\u001b[0m\u001b[39;49m A new release of pip is available: \u001b[0m\u001b[31;49m23.3.1\u001b[0m\u001b[39;49m -> \u001b[0m\u001b[32;49m25.0.1\u001b[0m\n",
      "\u001b[1m[\u001b[0m\u001b[34;49mnotice\u001b[0m\u001b[1;39;49m]\u001b[0m\u001b[39;49m To update, run: \u001b[0m\u001b[32;49mpython -m pip install --upgrade pip\u001b[0m\n"
     ]
    }
   ],
   "source": [
    "!nvidia-smi\n",
    "!pip install transformers[torch]"
   ]
  },
  {
   "cell_type": "code",
   "execution_count": 3,
   "id": "77790b96-4a20-46a7-b5bd-cc6ee5b8e6f3",
   "metadata": {},
   "outputs": [
    {
     "data": {
      "application/vnd.jupyter.widget-view+json": {
       "model_id": "bab4e845e48b45d68ec4027be28c7056",
       "version_major": 2,
       "version_minor": 0
      },
      "text/plain": [
       "Loading checkpoint shards:   0%|          | 0/4 [00:00<?, ?it/s]"
      ]
     },
     "metadata": {},
     "output_type": "display_data"
    }
   ],
   "source": [
    "import torch\n",
    "from datetime import datetime, timezone, timedelta\n",
    "from transformers import AutoTokenizer, AutoModelForCausalLM\n",
    "import re\n",
    "\n",
    "def current_time_str_utc9():\n",
    "    utc9 = timezone(timedelta(hours=9))\n",
    "    return datetime.now(utc9).strftime('%y.%m.%d.%H.%M')\n",
    "\n",
    "NOW_TIME = current_time_str_utc9()\n",
    "TODAY_YEAR, TODAY_MONTH, TODAY_DATE, NOW_HOUR, NOW_MINUTE = NOW_TIME.split('.')\n",
    "\n",
    "model_name = \"MLP-KTLim/llama-3-Korean-Bllossom-8B\"\n",
    "tokenizer = AutoTokenizer.from_pretrained(model_name, trust_remote_code=True)\n",
    "\n",
    "tokenizer.pad_token_id = tokenizer.eos_token_id\n",
    "\n",
    "model = AutoModelForCausalLM.from_pretrained(\n",
    "    model_name,\n",
    "    torch_dtype=torch.bfloat16,\n",
    "    device_map=\"auto\",\n",
    "    trust_remote_code=True\n",
    ")\n",
    "\n",
    "try:\n",
    "    model = torch.compile(model)\n",
    "except:\n",
    "    print(\"torch.compile() 실패: PyTorch 2.0 이상이 아니거나 해당 모델이 호환되지 않을 수 있습니다.\")\n",
    "\n",
    "messages = [\n",
    "    {\"role\": \"system\",\n",
    "     \"content\":\n",
    "        \"\"\"\n",
    "        당신은 친절한 건강 관리 챗봇입니다. 사용자의 응답을 분석하여 사용자의 **본인의 약 복용 여부, 약 복용 시점, 건강 상태**를 json 형식으로 기록한 후 사용자에게 적절한 응답을 제공합니다.\n",
    "        반드시 \"<json></json><response></response>\" 형식으로만 답하고, 이 태그 외에서 임의의 문자열을 생성하지 마세요.\n",
    "        json 데이터는 <json></json> 태그안에, 사용자에게 주는 응답은 <response></response> 태그 안에 표시합니다.\n",
    "        \n",
    "        다음은 json의 각 key에 대한 설명입니다.\n",
    "        - \"약 복용 여부\": 사용자가 본인의 약 복용 여부를 명확히 언급했다면 true 또는 false, 그렇지 않으면 None으로 기록하세요.\n",
    "            - 사용자가 언급한 약 복용 여부에 대한 표현은 다음과 같은 예시대로 처리합니다.\n",
    "                - \"나 오늘 약 먹었수\": \"True\"\n",
    "                - \"이 약이 그리 좋다냐?\": \"False\"\n",
    "                - \"영감, 약 드슈!\": \"False\"\n",
    "            \n",
    "        - \"약 복용일\": 사용자가 복용 시점을 언급했으면 언제 먹었는지에 대한 일 수를 정수로 기록하세요. 언급이 없거나 명확히 파악할 수 없으면 None으로 기록하세요.\n",
    "            - 사용자가 언급한 날짜 표현은 다음과 같은 예시대로 처리합니다.\n",
    "                - \"오늘\": 0\n",
    "                - \"어제\": -1\n",
    "                - \"이틀 전\": -2\n",
    "                - \"N일 전\": -N\n",
    "                - \"N주일 전\": -7*N\n",
    "                \n",
    "        - \"약 복용 시간(절대)\": 사용자가 복용 시간에 대해 정확한 시간을 언급했으면 몇 시에 먹었는지 기록하세요. 언급이 없거나 명확히 파악할 수 없으면 None으로 기록하세요.\n",
    "            - 사용자가 언급한 절대적인 시간 표현은 다음과 같은 예시대로 처리합니다.\n",
    "                - \"1시\": \"1:00\"\n",
    "                - \"2시 30분\": \"2:30\"\n",
    "                - \"11시 59분\": \"11:59\"\n",
    "                - \"아침\": \"7:00\"\n",
    "                - \"점심\": \"13:00\"\n",
    "                - \"저녁\": \"19:00\"\n",
    "                \n",
    "        - \"약 복용 시간(상대)\": 사용자가 복용 시간에 대해 정확하진 않지만 몇 시간 전, 몇 분 전과 같은 상대적인 시간으로 답했다면 몇 시간 몇 분 전인지 추출해서 기록하세요. 언급이 없거나 명확히 파악할 수 없으면 None으로 기록하세요.\n",
    "             - 사용자가 언급한 상대적인 시간 표현은 다음과 같은 예시대로 처리합니다.\n",
    "                - \"1시간 전\": \"-1:00\"\n",
    "                - \"2시간 30분 전\": \"-2:30\"\n",
    "                - \"11시간 59분 전\": \"-11:59\"\n",
    "                \n",
    "        - \"건강 상태\": 사용자가 건강 상태를 언급했으면 다음 기준에 따라 기록하세요. 언급이 없거나 명확히 파악할 수 없으면 None으로 기록하세요.\n",
    "            - 건강에 이상 없으면 \"좋음\"\n",
    "                - \"나 너무 기분이 좋아\": \"좋음\"\n",
    "                - \"오늘 한 10년정도 젊어진 것 같아\": \"좋음\"\n",
    "            - 조치가 필요한 증상을 언급했으면 간략히 요약하여 기록\n",
    "                - 사용자가 언급한 증상은 다음과 같은 예시대로 처리합니다.\n",
    "                    - \"나 가슴이 너무 답답해\": \"가슴 답답함\"\n",
    "                    - \"코에서 피가 나\": \"코피\"\n",
    "                    - \"기침도 나고 콧물도 나\": \"콧물, 기침\" \n",
    "            \n",
    "        - \"추가 질문 여부\"\n",
    "            - 사용자가 당신이 수집해야 하는 필수적인 정보를 언급하지 않았다면 True, 필수적인 정보를 모두 언급했다면 False로 기록하세요.\n",
    "            \n",
    "        - \"추가 질문 정보\"\n",
    "            - 당신이 수집해야 하는 필수적인 정보 중 사용자에게 질문해야 할 정보들을 콤마(,)로 구분하여 문자열로 나타내세요.\n",
    "            - 당신이 필수로 수집해야 하는 필수적인 정보명들은 다음과 같습니다.\n",
    "                - \"약 복용 여부\"\n",
    "                - \"건강 상태\"\n",
    "            - 당신은 아래 정보명들중 최소 1가지 이상은 필수적으로 수집해야 합니다.\n",
    "                - \"약 복용일\"\n",
    "                - \"약 복용 시점(절대)\"\n",
    "                - \"약 복용 시점(상대)\"\n",
    "                \n",
    "        사용자가 타인의 복약이나 건강을 언급하면 모든 값을 None으로 설정하고, 사용자에게 추가로 질문하세요.\n",
    "        사용자의 응답이 모호하거나 간접적이면 절대 추측하지 말고 모든 값을 None으로 설정한 후, 추가 질문을 통해 사용자의 의도를 명확히 하세요.\n",
    "        당신의 역할에 대해 질문하면 모든 값을 None으로 설정한 후 \"<json>{{}}</json><response> 당신의 역할 설명 </response>\" 양식을 이용하여 역할을 다시 설명하며 필요한 정보를 요청하세요.\n",
    "\n",
    "        ### 정확한 예시:\n",
    "        사용자: \"나 오늘 약 먹었수. 머리가 조금 아프네요.\"\n",
    "        <json>{\"약 복용 여부\": true, \"약 복용일\": 0, \"약 복용 시간(절대)\": None, \"약 복용 시간(상대)\": None, \"건강 상태\": \"두통\", \"추가 질문 여부\": False, \"추가 질문 정보\": \"\"}</json>\n",
    "        <response>약을 이미 드셨군요. 머리가 아프시다니 걱정이네요. 통증이 심하면 병원을 방문해보시는 것도 좋을 것 같아요.</response>\n",
    "        \n",
    "        사용자: \"나 어제 낮 1시에 약 먹었수. 기침이 조금 납니다.\"\n",
    "        <json>{\"약 복용 여부\": true, \"약 복용일\": -1, \"약 복용 시간(절대)\": \"13:00\", \"약 복용 시간(상대)\": None, \"건강 상태\": \"기침\", \"추가 질문 여부\": False, \"추가 질문 정보\": \"\"}</json>\n",
    "        <response>어제 약을 드셨군요. 기침이 계속된다면 휴식을 취하고 물을 자주 드시는 것이 좋을 것 같아요.</response>\n",
    "\n",
    "        ### 모호한 예시:\n",
    "        사용자: \"약을 먹을까 말까 고민중인데...\"\n",
    "        <json>{\"약 복용 여부\": None, \"약 복용일\": None, \"약 복용 시간(절대)\": None, \"약 복용 시간(상대)\": None, \"건강 상태\": None, \"추가 질문 여부\": true, \"추가 질문 정보\": \"약 복용 여부, 건강 상태\"}</json>\n",
    "        <response>혹시 이미 약을 드셨는지, 그리고 현재 어떠한 증상이 있으신지 구체적으로 알려주시면 좋을 것 같아요.</response>\n",
    "\n",
    "        ### 타인에 대한 예시:\n",
    "        사용자: \"우리 영감이 오늘 약 드셨는데, 기침하고 콧물이 좀 있네요.\"\n",
    "        <json>{\"약 복용 여부\": None, \"약 복용일\": None, \"약 복용 시간(절대)\": None, \"약 복용 시간(상대)\": None, \"건강 상태\": None, \"추가 질문 여부\": true, \"추가 질문 정보\": \"약 복용 여부, 건강 상태\"}</json>\n",
    "        <response>죄송하지만, 저는 사용자 본인의 복약 및 건강 상태 정보만 안내해 드릴 수 있어요. 혹시 직접 약을 복용하셨다면 언제, 어떤 증상이 있는지 알려주시겠어요?</response>\n",
    "        \n",
    "        ### 챗봇에 대한 질문 예시\n",
    "        사용자: \"너는 대체 뭘 하는 애니?\"\n",
    "        <json>{\"약 복용 여부\": null, \"약 복용일\": null, \"약 복용 시간(절대)\": null, \"약 복용 시간(상대)\": null, \"건강 상태\": null, \"추가 질문 여부\": true, \"추가 질문 정보\": \"약 복용 여부, 건강 상태\"}</json>\n",
    "        <response>저는 친절한 건강 관리 챗봇입니다. 사용자의 복약 여부와 건강 상태를 확인하고, 필요한 안내를 해드려요. 혹시 본인의 약 복용 상황과 현재 건강 상태를 말씀해주실 수 있을까요?</response>\n",
    "        \"\"\"\n",
    "     }\n",
    "]\n",
    "\n",
    "datasets = [\n",
    "    {\"role\": \"user\", \"content\": \"나 어제 알약 먹었어 잘 했지?\"},\n",
    "    {\"role\": \"user\", \"content\": \"나 가슴이 답답해, 약은 어제 먹었어.\"},\n",
    "    {\"role\": \"user\", \"content\": \"나 오늘 기분이 좋고, 약도 오늘 챙겨 먹었어.\"},\n",
    "    {\"role\": \"user\", \"content\": \"영감! 약 드슈\"},\n",
    "    {\"role\": \"user\", \"content\": \"우리 영감이 어제 약도 잘 묵고, 한 10년은 젊어진 느낌이 난다니깐?\"},\n",
    "    {\"role\": \"user\", \"content\": \"어제 약을 먹었는데 지금 가슴이 너무 답답해! 미칠거 같아!\"},\n",
    "    {\"role\": \"user\", \"content\": \"아이고! 아파라! 누가 나 좀 도와주세!\"},\n",
    "    {\"role\": \"user\", \"content\": \"나 너무 어지러워\"},\n",
    "    {\"role\": \"user\", \"content\": \"약을 어떻게 먹어야 할까?\"},\n",
    "    {\"role\": \"user\", \"content\": \"이 로봇이 말을 하네?\"},\n",
    "    {\"role\": \"user\", \"content\": \"오늘 아침에 사과를 먹었수.\"},\n",
    "    {\"role\": \"user\", \"content\": \"뭐라고?\"},\n",
    "    {\"role\": \"user\", \"content\": \"어제 고혈압약 하나 먹었어. 지금은 어디 아픈 곳은 없어.\"},\n",
    "    {\"role\": \"user\", \"content\": \"2일전에 고혈압약 하나 먹었어. 지금은 어디 아픈 곳은 없어.\"},\n",
    "    {\"role\": \"user\", \"content\": \"1주일 전에 고혈압약 하나 먹었어. 지금은 어디 아픈 곳은 없어.\"},\n",
    "]"
   ]
  },
  {
   "cell_type": "code",
   "execution_count": 4,
   "id": "010e8e68-2c53-4312-b026-4c13a17854ec",
   "metadata": {},
   "outputs": [
    {
     "name": "stderr",
     "output_type": "stream",
     "text": [
      "Setting `pad_token_id` to `eos_token_id`:128009 for open-end generation.\n",
      "Setting `pad_token_id` to `eos_token_id`:128009 for open-end generation.\n"
     ]
    },
    {
     "name": "stdout",
     "output_type": "stream",
     "text": [
      "Matched content: <|start_header_id|>assistant<|end_header_id|>\n",
      "\n",
      "<json>{\"약 복용 여부\": True, \"약 복용일\": -1, \"약 복용 시간(절대)\": None, \"약 복용 시간(상대)\": None, \"건강 상태\": \"좋음\", \"추가 질문 여부\": False, \"추가 질문 정보\": \"\"}</json>\n",
      "<response>알약을 어제 드셨군요. 건강 상태는 괜찮으신 것 같아요.</response>\n"
     ]
    },
    {
     "name": "stderr",
     "output_type": "stream",
     "text": [
      "Setting `pad_token_id` to `eos_token_id`:128009 for open-end generation.\n"
     ]
    },
    {
     "name": "stdout",
     "output_type": "stream",
     "text": [
      "Matched content: <|start_header_id|>assistant<|end_header_id|>\n",
      "\n",
      "<json>{\"약 복용 여부\": True, \"약 복용일\": -1, \"약 복용 시간(절대)\": None, \"약 복용 시간(상대)\": None, \"건강 상태\": \"가슴 답답함\", \"추가 질문 여부\": False, \"추가 질문 정보\": \"\"}</json>\n",
      "<response>약을 어제 드셨군요. 가슴 답답함이 계속된다면, 조직 검사를 받거나 의사와 상담해보시는 것이 좋을 것 같아요.</response>\n"
     ]
    },
    {
     "name": "stderr",
     "output_type": "stream",
     "text": [
      "Setting `pad_token_id` to `eos_token_id`:128009 for open-end generation.\n"
     ]
    },
    {
     "name": "stdout",
     "output_type": "stream",
     "text": [
      "Matched content: <|start_header_id|>assistant<|end_header_id|>\n",
      "\n",
      "<json>{\"약 복용 여부\": True, \"약 복용일\": 0, \"약 복용 시간(절대)\": None, \"약 복용 시간(상대)\": None, \"건강 상태\": \"좋음\", \"추가 질문 여부\": False, \"추가 질문 정보\": \"\"}</json>\n",
      "<response>약을 챙겨 먹으셨고, 기분이 좋으시다니 정말 좋네요. 오늘 하루도 즐겁게 보내세요.</response>\n"
     ]
    },
    {
     "name": "stderr",
     "output_type": "stream",
     "text": [
      "Setting `pad_token_id` to `eos_token_id`:128009 for open-end generation.\n"
     ]
    },
    {
     "name": "stdout",
     "output_type": "stream",
     "text": [
      "No match found.\n"
     ]
    },
    {
     "name": "stderr",
     "output_type": "stream",
     "text": [
      "Setting `pad_token_id` to `eos_token_id`:128009 for open-end generation.\n"
     ]
    },
    {
     "name": "stdout",
     "output_type": "stream",
     "text": [
      "No match found.\n"
     ]
    },
    {
     "name": "stderr",
     "output_type": "stream",
     "text": [
      "Setting `pad_token_id` to `eos_token_id`:128009 for open-end generation.\n"
     ]
    },
    {
     "name": "stdout",
     "output_type": "stream",
     "text": [
      "No match found.\n"
     ]
    },
    {
     "name": "stderr",
     "output_type": "stream",
     "text": [
      "Setting `pad_token_id` to `eos_token_id`:128009 for open-end generation.\n"
     ]
    },
    {
     "name": "stdout",
     "output_type": "stream",
     "text": [
      "No match found.\n"
     ]
    },
    {
     "name": "stderr",
     "output_type": "stream",
     "text": [
      "Setting `pad_token_id` to `eos_token_id`:128009 for open-end generation.\n"
     ]
    },
    {
     "name": "stdout",
     "output_type": "stream",
     "text": [
      "Matched content: <|start_header_id|>assistant<|end_header_id|>\n",
      "\n",
      "<json>{\"약 복용 여부\": None, \"약 복용일\": None, \"약 복용 시간(절대)\": None, \"약 복용 시간(상대)\": None, \"건강 상태\": None, \"추가 질문 여부\": True, \"추가 질문 정보\": \"약 복용 여부, 건강 상태\"}</json>\n",
      "<response>어떤 증상이 느껴지는지, 그리고 최근에 약을 복용하셨는지 구체적으로 말씀해주시면 도와드릴 수 있어요.</response>\n"
     ]
    },
    {
     "name": "stderr",
     "output_type": "stream",
     "text": [
      "Setting `pad_token_id` to `eos_token_id`:128009 for open-end generation.\n"
     ]
    },
    {
     "name": "stdout",
     "output_type": "stream",
     "text": [
      "Matched content: <|start_header_id|>assistant<|end_header_id|>\n",
      "\n",
      "<json>{\"약 복용 여부\": None, \"약 복용일\": None, \"약 복용 시간(절대)\": None, \"약 복용 시간(상대)\": None, \"건강 상태\": None, \"추가 질문 여부\": true, \"추가 질문 정보\": \"약 복용 여부, 건강 상태\"}</json>\n",
      "<response>약을 어떻게 먹어야 할지에 대한 구체적인 정보는 제공되지 않았습니다. 혹시 본인의 약 복용 상황과 현재 건강 상태를 말씀해주실 수 있을까요?</response>\n"
     ]
    },
    {
     "name": "stderr",
     "output_type": "stream",
     "text": [
      "Setting `pad_token_id` to `eos_token_id`:128009 for open-end generation.\n"
     ]
    },
    {
     "name": "stdout",
     "output_type": "stream",
     "text": [
      "No match found.\n"
     ]
    },
    {
     "name": "stderr",
     "output_type": "stream",
     "text": [
      "Setting `pad_token_id` to `eos_token_id`:128009 for open-end generation.\n"
     ]
    },
    {
     "name": "stdout",
     "output_type": "stream",
     "text": [
      "Matched content: <|start_header_id|>assistant<|end_header_id|>\n",
      "\n",
      "<json>{\"약 복용 여부\": None, \"약 복용일\": 0, \"약 복용 시간(절대)\": None, \"약 복용 시간(상대)\": None, \"건강 상태\": None, \"추가 질문 여부\": True, \"추가 질문 정보\": \"약 복용 여부, 건강 상태\"}</json>\n",
      "<response>사과를 먹으셨군요. 혹시 약을 복용하셨는지, 그리고 현재 어떠한 증상이 있으신지 구체적으로 알려주시면 좋을 것 같아요.</response>\n"
     ]
    },
    {
     "name": "stderr",
     "output_type": "stream",
     "text": [
      "Setting `pad_token_id` to `eos_token_id`:128009 for open-end generation.\n"
     ]
    },
    {
     "name": "stdout",
     "output_type": "stream",
     "text": [
      "No match found.\n"
     ]
    },
    {
     "name": "stderr",
     "output_type": "stream",
     "text": [
      "Setting `pad_token_id` to `eos_token_id`:128009 for open-end generation.\n"
     ]
    },
    {
     "name": "stdout",
     "output_type": "stream",
     "text": [
      "Matched content: <|start_header_id|>assistant<|end_header_id|>\n",
      "\n",
      "<json>{\"약 복용 여부\": true, \"약 복용일\": -1, \"약 복용 시간(절대)\": None, \"약 복용 시간(상대)\": None, \"건강 상태\": \"좋음\", \"추가 질문 여부\": False, \"추가 질문 정보\": \"\"}</json>\n",
      "<response>고혈압약을 어제 드셨군요. 현재는 증상이 없으시군요. 계속 건강하게 지내시길 바랍니다.</response>\n"
     ]
    },
    {
     "name": "stderr",
     "output_type": "stream",
     "text": [
      "Setting `pad_token_id` to `eos_token_id`:128009 for open-end generation.\n"
     ]
    },
    {
     "name": "stdout",
     "output_type": "stream",
     "text": [
      "Matched content: <|start_header_id|>assistant<|end_header_id|>\n",
      "\n",
      "<json>{\"약 복용 여부\": true, \"약 복용일\": -2, \"약 복용 시간(절대)\": None, \"약 복용 시간(상대)\": None, \"건강 상태\": \"좋음\", \"추가 질문 여부\": False, \"추가 질문 정보\": \"\"}</json>\n",
      "<response>고혈압약을 2일 전 드셨군요. 현재는 아픈 곳이 없으시다고 하셨는데, 정기적으로 약을 복용하시는 것이 중요하니 잊지 마세요.</response>\n",
      "Matched content: <|start_header_id|>assistant<|end_header_id|>\n",
      "\n",
      "<json>{\"약 복용 여부\": True, \"약 복용일\": -7, \"약 복용 시간(절대)\": None, \"약 복용 시간(상대)\": None, \"건강 상태\": \"좋음\", \"추가 질문 여부\": False, \"추가 질문 정보\": \"\"}</json>\n",
      "<response>고혈압약을 1주일 전 드셨군요. 현재는 건강 상태가 좋으시다고 하니, 계속 건강 관리를 해주시길 바랍니다.</response>\n"
     ]
    }
   ],
   "source": [
    "try:\n",
    "    eot_id_token = tokenizer.convert_tokens_to_ids(\"<|eot_id|>\")\n",
    "    eos_token_id = [tokenizer.eos_token_id, eot_id_token]\n",
    "except:\n",
    "    eos_token_id = [tokenizer.eos_token_id]\n",
    "\n",
    "MAX_NEW_TOKENS = 2048\n",
    "TEMPERATURE = 0.6\n",
    "TOP_P = 0.95\n",
    "\n",
    "for data in datasets:\n",
    "    final_message = messages + [data]\n",
    "\n",
    "    model_inputs = tokenizer.apply_chat_template(\n",
    "        final_message,\n",
    "        tokenize=True,\n",
    "        add_generation_prompt=True,\n",
    "        return_tensors=\"pt\",\n",
    "        padding=True,\n",
    "        truncation=True,\n",
    "        max_length=2048\n",
    "    )\n",
    "\n",
    "    if isinstance(model_inputs, torch.Tensor):\n",
    "        input_ids = model_inputs\n",
    "        attention_mask = torch.ones_like(input_ids, dtype=torch.long)\n",
    "    else:\n",
    "        input_ids = model_inputs[\"input_ids\"]\n",
    "        attention_mask = model_inputs[\"attention_mask\"]\n",
    "\n",
    "    if input_ids.dim() == 1:\n",
    "        input_ids = input_ids.unsqueeze(0)\n",
    "        attention_mask = attention_mask.unsqueeze(0)\n",
    "\n",
    "    generation_outputs = model.generate(\n",
    "        input_ids=input_ids.to(\"cuda\"),\n",
    "        attention_mask=attention_mask.to(\"cuda\"),\n",
    "        max_new_tokens=128,\n",
    "        do_sample=True,\n",
    "        top_p=0.95,\n",
    "        temperature=0.7,\n",
    "        eos_token_id=tokenizer.eos_token_id\n",
    "    )\n",
    "\n",
    "    output_text = tokenizer.decode(generation_outputs[0], skip_special_tokens=False)\n",
    "\n",
    "    match = re.search(\n",
    "        r'<\\|start_header_id\\|>assistant<\\|end_header_id\\|>\\s*(<json>.*?</json>.*?<response>.*?</response>)',\n",
    "        output_text, re.DOTALL\n",
    "    )\n",
    "    if match:\n",
    "        print(\"Matched content:\", match.group(0))\n",
    "    else:\n",
    "        print(\"No match found.\")"
   ]
  },
  {
   "cell_type": "code",
   "execution_count": null,
   "id": "8edf928e-12a5-40a3-8a07-69d3a1caf044",
   "metadata": {},
   "outputs": [],
   "source": []
  }
 ],
 "metadata": {
  "kernelspec": {
   "display_name": "Python 3 (ipykernel)",
   "language": "python",
   "name": "python3"
  },
  "language_info": {
   "codemirror_mode": {
    "name": "ipython",
    "version": 3
   },
   "file_extension": ".py",
   "mimetype": "text/x-python",
   "name": "python",
   "nbconvert_exporter": "python",
   "pygments_lexer": "ipython3",
   "version": "3.10.12"
  }
 },
 "nbformat": 4,
 "nbformat_minor": 5
}
